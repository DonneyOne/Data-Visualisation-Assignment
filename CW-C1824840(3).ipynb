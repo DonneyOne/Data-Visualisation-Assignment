{
 "cells": [
  {
   "cell_type": "code",
   "execution_count": 15,
   "metadata": {},
   "outputs": [
    {
     "name": "stdout",
     "output_type": "stream",
     "text": [
      "Populating the interactive namespace from numpy and matplotlib\n"
     ]
    },
    {
     "data": {
      "text/html": [
       "<div>\n",
       "<style scoped>\n",
       "    .dataframe tbody tr th:only-of-type {\n",
       "        vertical-align: middle;\n",
       "    }\n",
       "\n",
       "    .dataframe tbody tr th {\n",
       "        vertical-align: top;\n",
       "    }\n",
       "\n",
       "    .dataframe thead th {\n",
       "        text-align: right;\n",
       "    }\n",
       "</style>\n",
       "<table border=\"1\" class=\"dataframe\">\n",
       "  <thead>\n",
       "    <tr style=\"text-align: right;\">\n",
       "      <th></th>\n",
       "      <th>Years of Potential Life Lost Rate</th>\n",
       "      <th>Teen Birth Rate</th>\n",
       "      <th>Violent Crime Rate</th>\n",
       "      <th>Percentage Smokers</th>\n",
       "    </tr>\n",
       "    <tr>\n",
       "      <th>County</th>\n",
       "      <th></th>\n",
       "      <th></th>\n",
       "      <th></th>\n",
       "      <th></th>\n",
       "    </tr>\n",
       "  </thead>\n",
       "  <tbody>\n",
       "    <tr>\n",
       "      <th>Alachua</th>\n",
       "      <td>6633</td>\n",
       "      <td>19</td>\n",
       "      <td>579</td>\n",
       "      <td>16</td>\n",
       "    </tr>\n",
       "    <tr>\n",
       "      <th>Baker</th>\n",
       "      <td>8270</td>\n",
       "      <td>58</td>\n",
       "      <td>360</td>\n",
       "      <td>19</td>\n",
       "    </tr>\n",
       "    <tr>\n",
       "      <th>Bay</th>\n",
       "      <td>9168</td>\n",
       "      <td>50</td>\n",
       "      <td>508</td>\n",
       "      <td>18</td>\n",
       "    </tr>\n",
       "    <tr>\n",
       "      <th>Bradford</th>\n",
       "      <td>10346</td>\n",
       "      <td>61</td>\n",
       "      <td>461</td>\n",
       "      <td>18</td>\n",
       "    </tr>\n",
       "    <tr>\n",
       "      <th>Brevard</th>\n",
       "      <td>7722</td>\n",
       "      <td>25</td>\n",
       "      <td>518</td>\n",
       "      <td>16</td>\n",
       "    </tr>\n",
       "    <tr>\n",
       "      <th>...</th>\n",
       "      <td>...</td>\n",
       "      <td>...</td>\n",
       "      <td>...</td>\n",
       "      <td>...</td>\n",
       "    </tr>\n",
       "    <tr>\n",
       "      <th>Taylor</th>\n",
       "      <td>7875</td>\n",
       "      <td>64</td>\n",
       "      <td>743</td>\n",
       "      <td>18</td>\n",
       "    </tr>\n",
       "    <tr>\n",
       "      <th>Volusia</th>\n",
       "      <td>8295</td>\n",
       "      <td>32</td>\n",
       "      <td>426</td>\n",
       "      <td>16</td>\n",
       "    </tr>\n",
       "    <tr>\n",
       "      <th>Wakulla</th>\n",
       "      <td>7548</td>\n",
       "      <td>31</td>\n",
       "      <td>272</td>\n",
       "      <td>17</td>\n",
       "    </tr>\n",
       "    <tr>\n",
       "      <th>Walton</th>\n",
       "      <td>7962</td>\n",
       "      <td>45</td>\n",
       "      <td>374</td>\n",
       "      <td>17</td>\n",
       "    </tr>\n",
       "    <tr>\n",
       "      <th>Washington</th>\n",
       "      <td>8390</td>\n",
       "      <td>54</td>\n",
       "      <td>236</td>\n",
       "      <td>19</td>\n",
       "    </tr>\n",
       "  </tbody>\n",
       "</table>\n",
       "<p>66 rows × 4 columns</p>\n",
       "</div>"
      ],
      "text/plain": [
       "            Years of Potential Life Lost Rate  Teen Birth Rate  \\\n",
       "County                                                           \n",
       "Alachua                                  6633               19   \n",
       "Baker                                    8270               58   \n",
       "Bay                                      9168               50   \n",
       "Bradford                                10346               61   \n",
       "Brevard                                  7722               25   \n",
       "...                                       ...              ...   \n",
       "Taylor                                   7875               64   \n",
       "Volusia                                  8295               32   \n",
       "Wakulla                                  7548               31   \n",
       "Walton                                   7962               45   \n",
       "Washington                               8390               54   \n",
       "\n",
       "            Violent Crime Rate  Percentage Smokers  \n",
       "County                                              \n",
       "Alachua                    579                  16  \n",
       "Baker                      360                  19  \n",
       "Bay                        508                  18  \n",
       "Bradford                   461                  18  \n",
       "Brevard                    518                  16  \n",
       "...                        ...                 ...  \n",
       "Taylor                     743                  18  \n",
       "Volusia                    426                  16  \n",
       "Wakulla                    272                  17  \n",
       "Walton                     374                  17  \n",
       "Washington                 236                  19  \n",
       "\n",
       "[66 rows x 4 columns]"
      ]
     },
     "execution_count": 15,
     "metadata": {},
     "output_type": "execute_result"
    }
   ],
   "source": [
    "# CELL1 – 1 mark\n",
    "\n",
    "\n",
    "################################################################################################################################\n",
    "#  libraries needed for the coursework\n",
    "%pylab inline\n",
    "import pandas as pd\n",
    "from pandas import Series, DataFrame\n",
    "from scipy import stats\n",
    "import statsmodels.api as sm\n",
    "################################################################################################################################\n",
    "cw = pd.read_table(r\"2017Health.txt\", index_col=['County'])\n",
    "cw = cw.drop('State', axis=1)\n",
    "frame = DataFrame(cw)\n",
    "frame\n",
    "\n",
    "                    \n",
    "\n",
    "\n"
   ]
  },
  {
   "cell_type": "code",
   "execution_count": 16,
   "metadata": {},
   "outputs": [
    {
     "name": "stdout",
     "output_type": "stream",
     "text": [
      "Mean of % Smokers is: 16.92\n",
      "Minimum of % Smokers is: 11\n",
      "Maximum of % Smokers is: 21\n",
      "Standard deviation of % Smokers is: 2.37\n",
      "95% confidence level of % Smokers is: [ 16.35 17.49 ]\n"
     ]
    }
   ],
   "source": [
    "# CELL2 – 5 marks\n",
    "cell2 = cw['Percentage Smokers']\n",
    "value = cell2.values \n",
    "stdvalue = round(std(cw['Percentage Smokers']),2)\n",
    "meanvalue = round(cw['Percentage Smokers'].mean(),2)\n",
    "err = round(1.96*std(value)/sqrt(len(value)), 2)\n",
    "print(\"Mean of % Smokers is: \" + str(meanvalue))\n",
    "print(\"Minimum of % Smokers is: \" + str(round(cw['Percentage Smokers'].min(),1)))\n",
    "print(\"Maximum of % Smokers is: \" + str(round(cw['Percentage Smokers'].max(),1)))\n",
    "print(\"Standard deviation of % Smokers is: \" + str(stdvalue))\n",
    "print('95% confidence level of % Smokers is: ' + '[', round(meanvalue-err,3) , round(meanvalue+err,3), ']')\n",
    "\n",
    "\n",
    "\n",
    "\n",
    "\n",
    "\n"
   ]
  },
  {
   "cell_type": "code",
   "execution_count": 17,
   "metadata": {},
   "outputs": [
    {
     "data": {
      "text/plain": [
       "(0.0, 18.0)"
      ]
     },
     "execution_count": 17,
     "metadata": {},
     "output_type": "execute_result"
    },
    {
     "data": {
      "image/png": "[encoded data removed]",
      "text/plain": [
       "<Figure size 504x504 with 1 Axes>"
      ]
     },
     "metadata": {
      "needs_background": "light"
     },
     "output_type": "display_data"
    }
   ],
   "source": [
    "# CELL3 – 6 marks\n",
    "\n",
    "dicts = {\"North Florida\" : [\"Duval\", \"Alachua\", \"Leon\", \"Flagler\", \"Marion\"], \n",
    "         \"Central Florida\" : [\"Orange\", \"Polk\", \"Hillsborough\", \"Pinellas\", \"Brevard\"],\n",
    "        \"South Florida\" : [\"Miami-Dade\", \"Broward\", \"Lee\", \"Palm Beach\", \"Sarasota\"]}\n",
    "cell2 = cw['Percentage Smokers']\n",
    "nf_value = cell2[dicts.get(\"North Florida\")]\n",
    "cf_value = cell2[dicts.get(\"Central Florida\")]\n",
    "sf_value = cell2[dicts.get(\"South Florida\")]\n",
    "nf_err = round(1.96*std(nf_value)/sqrt(len(nf_value)), 2)\n",
    "cf_err = round(1.96*std(cf_value)/sqrt(len(cf_value)), 2)\n",
    "sf_err = round(1.96*std(sf_value)/sqrt(len(sf_value)), 2)\n",
    "nf_mean_value = mean(nf_value)\n",
    "sf_mean_value = mean(cf_value)\n",
    "cf_mean_value = mean(sf_value)\n",
    "cell3 = pd.DataFrame({\"Mean % Smokers in\" : [nf_mean_value,sf_mean_value,cf_mean_value]}, \n",
    "                     index=['North Florida', 'Central Florida', 'South Florida'])\n",
    "\n",
    "bars = cell3.plot.bar(rot=0, figsize=(7,7), yerr=[nf_err, cf_err, sf_err])\n",
    "title('% Smokers in the parts of Florida')\n",
    "xlabel(\"The respecive parts of Florida\")\n",
    "ylabel(\"Mean measure of % Smokers\")\n",
    "ylim(0, 18)\n",
    "\n",
    "\n",
    "\n",
    "\n",
    "\n",
    "\n"
   ]
  },
  {
   "cell_type": "code",
   "execution_count": 18,
   "metadata": {},
   "outputs": [
    {
     "name": "stdout",
     "output_type": "stream",
     "text": [
      "                                    OLS Regression Results                                   \n",
      "=============================================================================================\n",
      "Dep. Variable:     Years of Potential Life Lost Rate   R-squared:                       0.423\n",
      "Model:                                           OLS   Adj. R-squared:                  0.404\n",
      "Method:                                Least Squares   F-statistic:                     23.05\n",
      "Date:                               Mon, 27 Jul 2020   Prob (F-statistic):           3.08e-08\n",
      "Time:                                       13:47:04   Log-Likelihood:                -557.69\n",
      "No. Observations:                                 66   AIC:                             1121.\n",
      "Df Residuals:                                     63   BIC:                             1128.\n",
      "Df Model:                                          2                                         \n",
      "Covariance Type:                           nonrobust                                         \n",
      "======================================================================================\n",
      "                         coef    std err          t      P>|t|      [0.025      0.975]\n",
      "--------------------------------------------------------------------------------------\n",
      "const               2503.1367   1092.139      2.292      0.025     320.672    4685.602\n",
      "Percentage Smokers   225.1886     80.902      2.783      0.007      63.518     386.859\n",
      "Teen Birth Rate       36.0917     13.165      2.742      0.008       9.784      62.400\n",
      "==============================================================================\n",
      "Omnibus:                        3.196   Durbin-Watson:                   2.054\n",
      "Prob(Omnibus):                  0.202   Jarque-Bera (JB):                2.471\n",
      "Skew:                          -0.457   Prob(JB):                        0.291\n",
      "Kurtosis:                       3.252   Cond. No.                         361.\n",
      "==============================================================================\n",
      "\n",
      "Warnings:\n",
      "[1] Standard Errors assume that the covariance matrix of the errors is correctly specified.\n",
      "OLS slope of Percentage Smokers =  225.19\n",
      "OLS slope of Teen Birth Rate =  36.09\n",
      "OLS intercept =  2503.14\n",
      "Regression model: YPLLR = 225.19 * Percentage Smokers + 36.09 * Teen Birth rate + 2503.14\n"
     ]
    }
   ],
   "source": [
    "# CELL4 – 2 marks\n",
    "YPLLR = cw['Years of Potential Life Lost Rate']\n",
    "comb=cw[['Percentage Smokers', 'Teen Birth Rate']]\n",
    "comb=sm.add_constant(comb)\n",
    "results=sm.OLS(YPLLR, comb).fit()\n",
    "print(results.summary())\n",
    "slope_ps=results.params[1]\n",
    "slope_tbr=results.params[2]\n",
    "intercept=results.params[0]\n",
    "print ('OLS slope of Percentage Smokers = ', round(slope_ps,2))\n",
    "print ('OLS slope of Teen Birth Rate = ', round(slope_tbr,2))\n",
    "print ('OLS intercept = ', round(intercept, 2))\n",
    "print ('Regression model: YPLLR = ' + str(round(slope_ps,2)) + ' * Percentage Smokers + ' \n",
    "       + str(round(slope_tbr,2)) + ' * Teen Birth rate + '+str(round(intercept, 2)))\n",
    "\n"
   ]
  },
  {
   "cell_type": "code",
   "execution_count": 19,
   "metadata": {},
   "outputs": [
    {
     "name": "stdout",
     "output_type": "stream",
     "text": [
      "MAE on Model A =  948.46\n",
      "MAE on Model B =  1219.42\n",
      "Is absolute error for model А normal? False\n",
      "Is absolute error for model B normal? False\n",
      "Is the diffrence significant? False\n",
      "Significance test of pvalue : 0.05225048924803222\n",
      "In conclusion, the diffrence is insignificant, but the MAE of Model A is more accurate than the one of Model B and that would be the reason of me suggesting model A\n"
     ]
    }
   ],
   "source": [
    "# CELL5 – 6 marks\n",
    "YPLLR = cw[\"Years of Potential Life Lost Rate\"]\n",
    "TBR = cw[\"Teen Birth Rate\"]\n",
    "VCR = cw[\"Violent Crime Rate\"]\n",
    "YPLLR_A = 60.6*TBR + 5297.06\n",
    "YPLLR_B = 1.36*VCR + 7254.3\n",
    "aerror_YPLLR = abs(results.predict() - YPLLR)\n",
    "aerror_A=abs(YPLLR_A - YPLLR)\n",
    "aerror_B=abs(YPLLR_B - YPLLR)\n",
    "MAE_A=mean(aerror_A)\n",
    "MAE_B=mean(aerror_B)\n",
    "####################MAE###################################\n",
    "print('MAE on Model A = ', round(MAE_A,2))\n",
    "print('MAE on Model B = ', round(MAE_B,2))\n",
    "####################NORMALITY_TEST###################################\n",
    "print (\"Is absolute error for model А normal?\", stats.shapiro(aerror_A)[1]>0.05)\n",
    "print (\"Is absolute error for model B normal?\", stats.shapiro(aerror_B)[1]>0.05)\n",
    "#####################SIGNIFICANCE_TEST###################################\n",
    "print (\"Is the diffrence significant?\", stats.mannwhitneyu(aerror_A,aerror_B, alternative = 'two-sided')[1]<0.05)\n",
    "print(\"Significance test of pvalue :\", stats.mannwhitneyu(aerror_A,aerror_B, alternative = 'two-sided')[1])\n",
    "#####################CONCLUSION###################################\n",
    "print(\"In conclusion, the diffrence is insignificant, but the MAE of Model A is more accurate than the one of Model B and that would be the reason of me suggesting model A\")"
   ]
  },
  {
   "cell_type": "code",
   "execution_count": null,
   "metadata": {},
   "outputs": [],
   "source": []
  },
  {
   "cell_type": "code",
   "execution_count": null,
   "metadata": {},
   "outputs": [],
   "source": []
  }
 ],
 "metadata": {
  "kernelspec": {
   "display_name": "Python 3",
   "language": "python",
   "name": "python3"
  },
  "language_info": {
   "codemirror_mode": {
    "name": "ipython",
    "version": 3
   },
   "file_extension": ".py",
   "mimetype": "text/x-python",
   "name": "python",
   "nbconvert_exporter": "python",
   "pygments_lexer": "ipython3",
   "version": "3.8.3"
  }
 },
 "nbformat": 4,
 "nbformat_minor": 1
}
